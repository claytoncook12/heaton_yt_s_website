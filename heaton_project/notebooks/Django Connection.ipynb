{
 "cells": [
  {
   "source": [
    "# Testing Heaton Database And Creating Database Objects"
   ],
   "cell_type": "markdown",
   "metadata": {}
  },
  {
   "source": [
    "Initialize Django Project"
   ],
   "cell_type": "markdown",
   "metadata": {}
  },
  {
   "cell_type": "code",
   "execution_count": 1,
   "id": "raising-particular",
   "metadata": {},
   "outputs": [],
   "source": [
    "import os, sys\n",
    "import pandas as pd\n",
    "\n",
    "def init_django(project_name=None):\n",
    "    PWD = os.path.dirname(os.getcwd())\n",
    "    os.chdir(PWD)\n",
    "    project_name = project_name or os.environ.get('DJANGO_PROJECT') or None\n",
    "    if project_name == None:\n",
    "        raise Exception(PROJ_MISSING_MSG)\n",
    "    sys.path.insert(0, PWD)\n",
    "    os.environ.setdefault('DJANGO_SETTINGS_MODULE', f'{project_name}.settings')\n",
    "    os.environ[\"DJANGO_ALLOW_ASYNC_UNSAFE\"] = \"true\"\n",
    "    import django\n",
    "    django.setup()"
   ]
  },
  {
   "cell_type": "code",
   "execution_count": 2,
   "id": "experimental-interest",
   "metadata": {},
   "outputs": [],
   "source": [
    "init_django('heaton')"
   ]
  },
  {
   "source": [
    "Import Models For Session App"
   ],
   "cell_type": "markdown",
   "metadata": {}
  },
  {
   "cell_type": "code",
   "execution_count": 3,
   "id": "twenty-newton",
   "metadata": {},
   "outputs": [],
   "source": [
    "from django.db import IntegrityError\n",
    "from session.models import tune_type, key, tune, session, played_tune_group, played_tune, name_yer_tune"
   ]
  },
  {
   "source": [
    "Pull in Corrected CSV data"
   ],
   "cell_type": "markdown",
   "metadata": {}
  },
  {
   "cell_type": "code",
   "execution_count": 4,
   "metadata": {},
   "outputs": [
    {
     "output_type": "execute_result",
     "data": {
      "text/plain": [
       "session            april 11 virtual guided (slow) session\n",
       "date                                           2020-04-11\n",
       "tune_name                             crow's nest hop jig\n",
       "tune_type                                             jig\n",
       "group_id                                                9\n",
       "group_order_num                                         1\n",
       "start_time                                        0:42:27\n",
       "end_time                                          0:45:14\n",
       "key                                                   NaN\n",
       "add_info                                              NaN\n",
       "Name: 34, dtype: object"
      ]
     },
     "metadata": {},
     "execution_count": 4
    }
   ],
   "source": [
    "os.chdir('C:\\\\Users\\\\clayt\\\\Documents\\\\Python Scripts\\\\CC_website_heaton_sessions\\\\django_heaton_example\\\\heaton_project\\\\notebooks')\n",
    "heaton_corrected = pd.read_csv('heaton_master_list_corrected.csv')\n",
    "heaton_corrected.drop(columns=['index'], inplace=True)\n",
    "heaton_corrected.iloc[34]"
   ]
  },
  {
   "source": [
    "Inserting Data into database"
   ],
   "cell_type": "markdown",
   "metadata": {}
  },
  {
   "cell_type": "code",
   "execution_count": 5,
   "metadata": {},
   "outputs": [],
   "source": [
    "from datetime import timedelta\n",
    "import math\n",
    "\n",
    "def duration_time(duration_string):\n",
    "    \"\"\"\n",
    "    Take string of format Hour:Minutes:Seconds\n",
    "    and return datetime.timedelta\n",
    "    \"\"\"\n",
    "\n",
    "    hour, minutes, secs = duration_string.split(\":\")\n",
    "\n",
    "    return timedelta(hours=float(hour),minutes=float(minutes),seconds=float(secs))\n",
    "\n",
    "def replace_nan(s):\n",
    "    \"\"\"\n",
    "    Replace string \"nan\" with \"\"\n",
    "    \"\"\"\n",
    "\n",
    "    if isinstance(s, float):\n",
    "        return \"\"\n",
    "    if isinstance(s, str):\n",
    "        return s\n",
    "\n",
    "def heaton_database_insert(df_row):\n",
    "    \"\"\"\n",
    "    Takes a Dataframe row and inserts into Django database\n",
    "    using the imported models\n",
    "    \"\"\"\n",
    "\n",
    "    # Read in Row Data\n",
    "    session_row = df_row.session.lower()\n",
    "    date_row = df_row.date\n",
    "    tune_name_row = df_row.tune_name.lower()\n",
    "    tune_type_row = df_row.tune_type.lower()\n",
    "    group_id_row = df_row.group_id\n",
    "    group_order_num_row = df_row.group_order_num\n",
    "    start_time_row = duration_time(df_row.start_time)\n",
    "    end_time_row = duration_time(df_row.end_time)\n",
    "    key_row = replace_nan(df_row.key)\n",
    "    add_info_row = replace_nan(df_row.add_info)\n",
    "\n",
    "    # tune_type object lookup or create\n",
    "    tune_type_obj, _ = tune_type.objects.get_or_create(tune_type_char=tune_type_row)\n",
    "\n",
    "    # key object lookup or create\n",
    "    key_obj, _ = key.objects.get_or_create(key_type_char=key_row)\n",
    "\n",
    "    # tune object lookup or create\n",
    "    tune_obj, _ = tune.objects.get_or_create(name1=tune_name_row, tune_type=tune_type_obj)\n",
    "\n",
    "    # session object lookup or create\n",
    "    session_obj, _ = session.objects.get_or_create(name=session_row, date=date_row)\n",
    "\n",
    "    # played_tune_group object lookup or create\n",
    "    played_tune_group_obj, _ = played_tune_group.objects.get_or_create(session=session_obj,\n",
    "                                                                      session_order_num=group_id_row,\n",
    "                                                                      start_time=start_time_row,\n",
    "                                                                      end_time=end_time_row,\n",
    "                                                                      offertory=False)\n",
    "    \n",
    "    # played_tune object lookup or create\n",
    "    played_tune_obj, _ = played_tune.objects.get_or_create(tune=tune_obj,\n",
    "                                                           played_tune_group=played_tune_group_obj,\n",
    "                                                           key=key_obj,\n",
    "                                                           group_order_num=group_order_num_row,\n",
    "                                                           add_info=add_info_row)"
   ]
  },
  {
   "cell_type": "code",
   "execution_count": 6,
   "metadata": {},
   "outputs": [
    {
     "output_type": "stream",
     "name": "stdout",
     "text": [
      "0\n",
      "50\n",
      "100\n",
      "150\n",
      "200\n",
      "250\n",
      "300\n",
      "350\n",
      "400\n",
      "450\n",
      "500\n",
      "550\n",
      "600\n",
      "650\n",
      "700\n",
      "750\n",
      "800\n"
     ]
    }
   ],
   "source": [
    "def progress_in_index(n):\n",
    "    \"\"\"\n",
    "    Print Index If Divisable by 50\n",
    "    \"\"\"\n",
    "\n",
    "    if n % 50 == 0:\n",
    "        print(n)\n",
    "\n",
    "# Inserting Data into Database Models\n",
    "for index, row in heaton_corrected.iterrows():\n",
    "    try:\n",
    "        heaton_database_insert(row)\n",
    "    except Exception as e:\n",
    "        print(\"Index {}: {}\".format(index,e))\n",
    "        break\n",
    "    progress_in_index(index)"
   ]
  }
 ],
 "metadata": {
  "kernelspec": {
   "display_name": "Python 3",
   "language": "python",
   "name": "python3"
  },
  "language_info": {
   "codemirror_mode": {
    "name": "ipython",
    "version": 3
   },
   "file_extension": ".py",
   "mimetype": "text/x-python",
   "name": "python",
   "nbconvert_exporter": "python",
   "pygments_lexer": "ipython3",
   "version": "3.8.6-final"
  }
 },
 "nbformat": 4,
 "nbformat_minor": 5
}